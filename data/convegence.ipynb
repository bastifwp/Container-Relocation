{
 "cells": [
  {
   "cell_type": "code",
   "execution_count": 1024,
   "id": "55bd9ecf",
   "metadata": {},
   "outputs": [],
   "source": [
    "import numpy as np\n",
    "import matplotlib.pyplot as plt"
   ]
  },
  {
   "cell_type": "code",
   "execution_count": 1025,
   "id": "c6e5d91f",
   "metadata": {},
   "outputs": [],
   "source": [
    "#Procesamos los txt\n",
    "data = []\n",
    "pop = []\n",
    "\n",
    "file = open(\"all_pops.txt\")\n",
    "\n",
    "for line in file:\n",
    "    \n",
    "    #si la linea está vacia la saltamos\n",
    "    if len(line.strip()) == 0:\n",
    "        continue\n",
    "\n",
    "    #si no la procesamos\n",
    "    values = line.strip().split()\n",
    "    \n",
    "    #Encontramos una nueva generación\n",
    "    if values[0] == \"Gen\":\n",
    "\n",
    "        if len(pop) > 0:\n",
    "            nparr = np.array(pop)\n",
    "            data.append(np.min(nparr))\n",
    "\n",
    "        pop = []\n",
    "    \n",
    "    elif values[0] == \"Individuo\":\n",
    "        continue\n",
    "    \n",
    "    #Si no es ninguno de los casos anteriores entonces son los datos de un individuo\n",
    "    else:\n",
    "        f_value = int(values[-1].split(\"=\")[-1])\n",
    "        pop.append(f_value)\n",
    "\n",
    "\n",
    "\n",
    "file = open(\"params.txt\")\n",
    "#Lets process params as well\n",
    "instance = \"\"\n",
    "all_text = \"\"\n",
    "flg = True\n",
    "\n",
    "\n",
    "for line in file:\n",
    "\n",
    "    if line.strip() == \"PARAMS:\":\n",
    "        continue\n",
    "\n",
    "    if flg:\n",
    "        instance += line.split('/')[-1]\n",
    "\n",
    "        flg=False\n",
    "    else:\n",
    "        all_text += line\n"
   ]
  },
  {
   "cell_type": "code",
   "execution_count": 1026,
   "id": "aefdbdf6",
   "metadata": {},
   "outputs": [
    {
     "name": "stdout",
     "output_type": "stream",
     "text": [
      "Max_gen: 500\n",
      "Popsize: 80\n",
      "Cross prob: 1\n",
      "Mut prob: 0.01\n",
      "N heuristics: 4\n",
      "Elites: 2\n",
      "\n"
     ]
    }
   ],
   "source": [
    "#print(data)\n",
    "print(all_text)"
   ]
  },
  {
   "cell_type": "code",
   "execution_count": 1027,
   "id": "f3529bfd",
   "metadata": {},
   "outputs": [
    {
     "data": {
      "image/png": "[encoded data removed]",
      "text/plain": [
       "<Figure size 432x288 with 1 Axes>"
      ]
     },
     "metadata": {
      "needs_background": "light"
     },
     "output_type": "display_data"
    }
   ],
   "source": [
    "fig, ax = plt.subplots()\n",
    "ax.plot(data)\n",
    "ax.set_title(\"Convergence \" + instance)\n",
    "ax.set_xlabel(\"Gen\")\n",
    "ax.set_ylabel(\"n_moves\")\n",
    "ax.text(0.98, 0.98, all_text, transform=ax.transAxes, ha='right', va='top', fontsize=10,  bbox=dict(boxstyle='round', facecolor='white', alpha=0.8))\n",
    "plt.show()"
   ]
  },
  {
   "cell_type": "code",
   "execution_count": null,
   "id": "324b5e44",
   "metadata": {},
   "outputs": [],
   "source": []
  }
 ],
 "metadata": {
  "kernelspec": {
   "display_name": "Python 3",
   "language": "python",
   "name": "python3"
  },
  "language_info": {
   "codemirror_mode": {
    "name": "ipython",
    "version": 3
   },
   "file_extension": ".py",
   "mimetype": "text/x-python",
   "name": "python",
   "nbconvert_exporter": "python",
   "pygments_lexer": "ipython3",
   "version": "3.10.12"
  }
 },
 "nbformat": 4,
 "nbformat_minor": 5
}
